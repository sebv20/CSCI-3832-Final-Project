{
 "cells": [
  {
   "cell_type": "markdown",
   "metadata": {},
   "source": [
    "# Climate Change Sentiment Analysis\n",
    "\n",
    "#### Sebastian Vargas, Baxter Romero, Johnny Wilcox, Trajan Pei, Caleb Bettcher\n"
   ]
  },
  {
   "cell_type": "markdown",
   "metadata": {},
   "source": [
    "## EDA:\n",
    "\n",
    "Hydrate Data Set $\\newline$\n",
    "Drop any missing long/lattitude rows $\\newline$\n",
    "Create global subset of tweets (COL: Timestamp, Tweet, Sentiment Score)$\\newline$\n",
    "Create subsets of global subset for individual countries$\\newline$\n",
    "Create and evaluate subsets of different countries\n",
    "\n",
    "Questions we should try to answer with EDA:\n",
    "\n",
    "Describe details about the dataset you’ve chosen – $\\newline$\n",
    "How many examples(size after analysis), $\\newline$\n",
    "What statistics do you observe about the examples (Both columns, and data shape)$\\newline$\n",
    "How did you create training/validation/test sets? $\\newline$\n"
   ]
  },
  {
   "cell_type": "markdown",
   "metadata": {},
   "source": []
  },
  {
   "cell_type": "code",
   "execution_count": null,
   "metadata": {},
   "outputs": [],
   "source": []
  },
  {
   "cell_type": "code",
   "execution_count": null,
   "metadata": {},
   "outputs": [],
   "source": []
  }
 ],
 "metadata": {
  "kernelspec": {
   "display_name": "base",
   "language": "python",
   "name": "python3"
  },
  "language_info": {
   "codemirror_mode": {
    "name": "ipython",
    "version": 3
   },
   "file_extension": ".py",
   "mimetype": "text/x-python",
   "name": "python",
   "nbconvert_exporter": "python",
   "pygments_lexer": "ipython3",
   "version": "3.8.8"
  }
 },
 "nbformat": 4,
 "nbformat_minor": 2
}
