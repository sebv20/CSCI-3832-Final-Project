{
 "cells": [
  {
   "cell_type": "markdown",
   "metadata": {},
   "source": [
    "# Climate Change Sentiment Analysis\n",
    "\n",
    "#### Sebastian Vargas, Baxter Romero, Johnny Wilcox, Trajan Pei, Caleb Bettcher\n"
   ]
  },
  {
   "cell_type": "markdown",
   "metadata": {},
   "source": [
    "## EDA:\n",
    "\n",
    "Hydrate Data Set $\\newline$\n",
    "Drop any missing long/lattitude rows $\\newline$\n",
    "Create global subset of tweets (COL: Timestamp, Tweet, Sentiment Score)$\\newline$\n",
    "Create subsets of global subset for individual countries$\\newline$\n",
    "Create and evaluate subsets of different countries\n",
    "\n",
    "Questions we should try to answer with EDA:\n",
    "\n",
    "Describe details about the dataset you’ve chosen – $\\newline$\n",
    "How many examples(size after analysis), $\\newline$\n",
    "What statistics do you observe about the examples (Both columns, and data shape)$\\newline$\n",
    "How did you create training/validation/test sets? $\\newline$\n"
   ]
  },
  {
   "cell_type": "markdown",
   "metadata": {},
   "source": []
  },
  {
   "cell_type": "code",
   "execution_count": 1,
   "metadata": {},
   "outputs": [],
   "source": [
    "#imports \n",
    "\n",
    "import os\n",
    "import shutil\n",
    "import pandas as pd\n",
    "\n",
    "import tensorflow as tf\n",
    "import tensorflow_hub as hub\n",
    "import tensorflow_text as text \n",
    "\n",
    "import keras\n",
    "import keras.utils\n",
    "import keras.layers\n",
    "import keras.models\n",
    "import keras.optimizers\n",
    "from keras import utils as np_utils\n",
    "from keras.models import Sequential\n",
    "from keras.layers import Dense, Dropout, Activation\n",
    "from keras.optimizers import SGD\n",
    "\n",
    "import matplotlib.pyplot as plt"
   ]
  },
  {
   "cell_type": "code",
   "execution_count": 22,
   "metadata": {},
   "outputs": [
    {
     "data": {
      "text/html": [
       "<div>\n",
       "<style scoped>\n",
       "    .dataframe tbody tr th:only-of-type {\n",
       "        vertical-align: middle;\n",
       "    }\n",
       "\n",
       "    .dataframe tbody tr th {\n",
       "        vertical-align: top;\n",
       "    }\n",
       "\n",
       "    .dataframe thead th {\n",
       "        text-align: right;\n",
       "    }\n",
       "</style>\n",
       "<table border=\"1\" class=\"dataframe\">\n",
       "  <thead>\n",
       "    <tr style=\"text-align: right;\">\n",
       "      <th></th>\n",
       "      <th>created_at</th>\n",
       "      <th>id</th>\n",
       "      <th>lng</th>\n",
       "      <th>lat</th>\n",
       "      <th>topic</th>\n",
       "      <th>sentiment</th>\n",
       "      <th>stance</th>\n",
       "      <th>gender</th>\n",
       "      <th>temperature_avg</th>\n",
       "      <th>aggressiveness</th>\n",
       "    </tr>\n",
       "  </thead>\n",
       "  <tbody>\n",
       "    <tr>\n",
       "      <th>0</th>\n",
       "      <td>2006-06-06 16:06:42+00:00</td>\n",
       "      <td>6132</td>\n",
       "      <td>NaN</td>\n",
       "      <td>NaN</td>\n",
       "      <td>Weather Extremes</td>\n",
       "      <td>-0.097180</td>\n",
       "      <td>neutral</td>\n",
       "      <td>female</td>\n",
       "      <td>NaN</td>\n",
       "      <td>aggressive</td>\n",
       "    </tr>\n",
       "    <tr>\n",
       "      <th>1</th>\n",
       "      <td>2006-07-23 21:52:30+00:00</td>\n",
       "      <td>13275</td>\n",
       "      <td>-73.949582</td>\n",
       "      <td>40.650104</td>\n",
       "      <td>Weather Extremes</td>\n",
       "      <td>0.575777</td>\n",
       "      <td>neutral</td>\n",
       "      <td>undefined</td>\n",
       "      <td>-1.114768</td>\n",
       "      <td>aggressive</td>\n",
       "    </tr>\n",
       "    <tr>\n",
       "      <th>2</th>\n",
       "      <td>2006-08-29 01:52:30+00:00</td>\n",
       "      <td>23160</td>\n",
       "      <td>NaN</td>\n",
       "      <td>NaN</td>\n",
       "      <td>Weather Extremes</td>\n",
       "      <td>0.500479</td>\n",
       "      <td>neutral</td>\n",
       "      <td>male</td>\n",
       "      <td>NaN</td>\n",
       "      <td>aggressive</td>\n",
       "    </tr>\n",
       "    <tr>\n",
       "      <th>3</th>\n",
       "      <td>2006-11-07 02:46:52+00:00</td>\n",
       "      <td>57868</td>\n",
       "      <td>NaN</td>\n",
       "      <td>NaN</td>\n",
       "      <td>Weather Extremes</td>\n",
       "      <td>0.032816</td>\n",
       "      <td>neutral</td>\n",
       "      <td>male</td>\n",
       "      <td>NaN</td>\n",
       "      <td>aggressive</td>\n",
       "    </tr>\n",
       "    <tr>\n",
       "      <th>4</th>\n",
       "      <td>2006-11-27 14:27:43+00:00</td>\n",
       "      <td>304553</td>\n",
       "      <td>NaN</td>\n",
       "      <td>NaN</td>\n",
       "      <td>Importance of Human Intervantion</td>\n",
       "      <td>-0.090428</td>\n",
       "      <td>neutral</td>\n",
       "      <td>male</td>\n",
       "      <td>NaN</td>\n",
       "      <td>aggressive</td>\n",
       "    </tr>\n",
       "  </tbody>\n",
       "</table>\n",
       "</div>"
      ],
      "text/plain": [
       "                  created_at      id        lng        lat  \\\n",
       "0  2006-06-06 16:06:42+00:00    6132        NaN        NaN   \n",
       "1  2006-07-23 21:52:30+00:00   13275 -73.949582  40.650104   \n",
       "2  2006-08-29 01:52:30+00:00   23160        NaN        NaN   \n",
       "3  2006-11-07 02:46:52+00:00   57868        NaN        NaN   \n",
       "4  2006-11-27 14:27:43+00:00  304553        NaN        NaN   \n",
       "\n",
       "                              topic  sentiment   stance     gender  \\\n",
       "0                  Weather Extremes  -0.097180  neutral     female   \n",
       "1                  Weather Extremes   0.575777  neutral  undefined   \n",
       "2                  Weather Extremes   0.500479  neutral       male   \n",
       "3                  Weather Extremes   0.032816  neutral       male   \n",
       "4  Importance of Human Intervantion  -0.090428  neutral       male   \n",
       "\n",
       "   temperature_avg aggressiveness  \n",
       "0              NaN     aggressive  \n",
       "1        -1.114768     aggressive  \n",
       "2              NaN     aggressive  \n",
       "3              NaN     aggressive  \n",
       "4              NaN     aggressive  "
      ]
     },
     "execution_count": 22,
     "metadata": {},
     "output_type": "execute_result"
    }
   ],
   "source": [
    "# NOTE\n",
    "# in order to run this project drop in the .csv data set (called: \"The Climate Change Twitter Dataset\") \n",
    "# download at:\n",
    "# https://www.kaggle.com/datasets/deffro/the-climate-change-twitter-dataset\n",
    "\n",
    "import pandas as pd\n",
    "\n",
    "# Read the CSV file\n",
    "tweets_df = pd.read_csv(\"The Climate Change Twitter Dataset.csv\")\n",
    "\n",
    "# Display the resulting DataFrame\n",
    "tweets_df.head() \n"
   ]
  },
  {
   "cell_type": "code",
   "execution_count": 24,
   "metadata": {},
   "outputs": [
    {
     "name": "stdout",
     "output_type": "stream",
     "text": [
      "15789411\n",
      "5307538\n"
     ]
    }
   ],
   "source": [
    "# checking length\n",
    "print(len(tweets_df))\n",
    "\n",
    "# removing NAN values \n",
    "tweets_df = tweets_df.dropna()\n",
    "\n",
    "# checking length again\n",
    "print(len(tweets_df))\n"
   ]
  },
  {
   "cell_type": "code",
   "execution_count": 26,
   "metadata": {},
   "outputs": [],
   "source": [
    "# hydrating tweets \n",
    "\n",
    "import tweepy\n",
    "\n",
    "auth = tweepy.OAuth2BearerHandler(\"\")\n",
    "api = tweepy.API(auth)"
   ]
  },
  {
   "cell_type": "code",
   "execution_count": null,
   "metadata": {},
   "outputs": [],
   "source": []
  },
  {
   "cell_type": "code",
   "execution_count": null,
   "metadata": {},
   "outputs": [],
   "source": []
  }
 ],
 "metadata": {
  "kernelspec": {
   "display_name": "base",
   "language": "python",
   "name": "python3"
  },
  "language_info": {
   "codemirror_mode": {
    "name": "ipython",
    "version": 3
   },
   "file_extension": ".py",
   "mimetype": "text/x-python",
   "name": "python",
   "nbconvert_exporter": "python",
   "pygments_lexer": "ipython3",
   "version": "3.8.8"
  }
 },
 "nbformat": 4,
 "nbformat_minor": 2
}
