{
 "cells": [
  {
   "cell_type": "code",
   "execution_count": 27,
   "id": "b5357c1e",
   "metadata": {},
   "outputs": [],
   "source": [
    "import requests\n",
    "import time\n",
    "import random\n",
    "from selenium import webdriver\n",
    "from selenium.webdriver.chrome.service import Service\n",
    "from selenium.webdriver.common.by import By\n",
    "from selenium.webdriver.support.ui import WebDriverWait\n",
    "from selenium.webdriver.support import expected_conditions as EC\n",
    "\n",
    "# Set Chrome options to enable JavaScript execution\n",
    "chrome_options = webdriver.ChromeOptions()\n",
    "chrome_options.add_argument(\"--enable-javascript\")"
   ]
  },
  {
   "cell_type": "code",
   "execution_count": 19,
   "id": "ad59d227",
   "metadata": {},
   "outputs": [],
   "source": [
    "def extractStringFromTitle(text):\n",
    "    split_text = text.split(\"\\\"\", 1)\n",
    "    if len(split_text) > 1:\n",
    "        tweet_text = split_text[1].strip()\n",
    "        return tweet_text[:-5]\n",
    "    else:\n",
    "        return \"No content\""
   ]
  },
  {
   "cell_type": "code",
   "execution_count": 4,
   "id": "34703544",
   "metadata": {},
   "outputs": [],
   "source": [
    "def getTwitterURL(id):\n",
    "    return 'https://twitter.com/anyuser/status/' + id"
   ]
  },
  {
   "cell_type": "code",
   "execution_count": 31,
   "id": "db7d8947",
   "metadata": {},
   "outputs": [
    {
     "name": "stdout",
     "output_type": "stream",
     "text": [
      "https://twitter.com/anyuser/status/13275\n",
      "No content\n",
      "https://twitter.com/anyuser/status/1092823\n",
      "\"Stop global warming, the glaciers are crying themselves to DEATH...\" -dsy\n",
      "https://twitter.com/anyuser/status/1278023\n",
      "just took a short run...in shorts and a t-shirt...on December 17. So what is this global warming nonsense I am hearing about on the internets?\n",
      "https://twitter.com/anyuser/status/1455543\n",
      "No content\n",
      "https://twitter.com/anyuser/status/1893063\n",
      "Warmer climate. Wider grain. Easier to cut. Thank you global warming.\n",
      "https://twitter.com/anyuser/status/2266613\n",
      "No content\n",
      "https://twitter.com/anyuser/status/2377823\n",
      "Turned the radiator off in the living room. Worrying about global warming.\n",
      "https://twitter.com/anyuser/status/2579403\n",
      "The chief economist of US car firm Chrysler attacks the European attitudes to global warming. http://tinyurl.com/ym3a6a\n",
      "https://twitter.com/anyuser/status/2579433\n",
      "The chief economist of US car firm Chrysler attacks the European attitudes to global warming. http://tinyurl.com/ym3a6a\n",
      "https://twitter.com/anyuser/status/2604673\n",
      "Major UK companies such as BT, Tesco and BA meet to collaborate on tackling climate change. http://tinyurl.com/ymmnpn\n",
      "https://twitter.com/anyuser/status/2999523\n",
      "Economist Sir Nicholas Stern tells MPs he is encouraged by action planned around the world on climate change. http://tinyurl.com/y5uzux\n",
      "https://twitter.com/anyuser/status/3040243\n",
      "is doing a little global warming research\n",
      "https://twitter.com/anyuser/status/3081573\n",
      "No content\n",
      "https://twitter.com/anyuser/status/3241963\n",
      "An accumulation of snow on my part does not represent a lack of global warming on your part.\n",
      "https://twitter.com/anyuser/status/3564043\n",
      "is considering the positive side of global warming, while enjoying a wonderful sunny day.\n",
      "https://twitter.com/anyuser/status/3821293\n",
      "Chancellor Gordon Brown's air passenger duty is the wrong way to fight climate change, airlines tell MPs. http://tinyurl.com/2y5tgr\n",
      "https://twitter.com/anyuser/status/3922153\n",
      "Britons fear being ripped-off online more than gun crime or the threat of climate change, a survey suggests. http://tinyurl.com/2vxn3l\n",
      "https://twitter.com/anyuser/status/3922243\n",
      "Britons fear being ripped-off online more than gun crime or the threat of climate change, a survey suggests. http://tinyurl.com/2vxn3l\n",
      "https://twitter.com/anyuser/status/3922373\n",
      "Gnite Mercy, wonderful to meet you shock, it's chilly but nice here in NV, but I hear it's also snowy in Vangroovy (more proof of global warming)\n",
      "https://twitter.com/anyuser/status/4306863\n",
      "Tony Blair is to tell the World Economic Forum a breakthrough on climate change may be near. http://tinyurl.com/yodxvb\n",
      "https://twitter.com/anyuser/status/4318073\n",
      "Tony Blair tells the World Economic Forum a breakthrough on climate change may be near. http://tinyurl.com/yodxvb\n",
      "https://twitter.com/anyuser/status/4729003\n"
     ]
    },
    {
     "ename": "KeyboardInterrupt",
     "evalue": "",
     "output_type": "error",
     "traceback": [
      "\u001b[1;31m---------------------------------------------------------------------------\u001b[0m",
      "\u001b[1;31mKeyboardInterrupt\u001b[0m                         Traceback (most recent call last)",
      "Cell \u001b[1;32mIn[31], line 16\u001b[0m\n\u001b[0;32m     12\u001b[0m driver\u001b[38;5;241m.\u001b[39mget(url)\n\u001b[0;32m     14\u001b[0m \u001b[38;5;66;03m# Wait until the <title> tag is present in the HTML document\u001b[39;00m\n\u001b[0;32m     15\u001b[0m \u001b[38;5;66;03m#WebDriverWait(driver, 5).until(EC.presence_of_element_located((By.TAG_NAME, \"title\")))\u001b[39;00m\n\u001b[1;32m---> 16\u001b[0m time\u001b[38;5;241m.\u001b[39msleep(\u001b[38;5;241m5\u001b[39m)\n\u001b[0;32m     18\u001b[0m \u001b[38;5;66;03m# Find the <title> tag\u001b[39;00m\n\u001b[0;32m     19\u001b[0m title_element \u001b[38;5;241m=\u001b[39m driver\u001b[38;5;241m.\u001b[39mfind_element(By\u001b[38;5;241m.\u001b[39mTAG_NAME, \u001b[38;5;124m\"\u001b[39m\u001b[38;5;124mtitle\u001b[39m\u001b[38;5;124m\"\u001b[39m)\n",
      "\u001b[1;31mKeyboardInterrupt\u001b[0m: "
     ]
    }
   ],
   "source": [
    "ids = ['13275', '1092823', '1278023', '1455543', '1893063', '2266613', '2377823', '2579403', '2579433', '2604673', '2999523', '3040243', '3081573', '3241963', '3564043', '3821293', '3922153', '3922243', '3922373', '4306863', '4318073', '4729003', '4805803', '4982153', '5044463', '5096513', '5144253', '5197163', '5203523', '5314366', '5324848', '5328495', '5334170', '5334810', '5336007', '5348207', '5392174', '5431384', '5448722', '5462838', '5497780', '5500970', '5507294', '5519358', '5519363', '5531579', '5531980', '5536756', '5539932', '5547472', '5577833', '5577919', '5626819', '5626892', '5638797', '5656607', '5671404', '5692369', '5784515', '5815448', '5822903', '5869934', '5873884', '5887766', '5901292', '5909852', '5916898', '5920058', '5925915', '5933596', '5933831', '5936253', '5940181', '5940514', '6550371', '6607811', '6609921', '6805491', '6920201', '6923751', '7269261', '7293441', '7581801', '7929981', '7942241', '7997781', '8120951', '8438071', '8441381', '8527031', '8640031', '8686211', '8691121', '8796491', '8796821', '8960981', '9542461', '9732201', '9840761', '9860761']\n",
    "\n",
    "# Launch Chrome browser using Selenium WebDriver\n",
    "driver = webdriver.Chrome(options=chrome_options)\n",
    "\n",
    "for i in range(len(ids)):\n",
    "    # set url based on tweet id\n",
    "    url = getTwitterURL(str(ids[i]))\n",
    "    print(url)\n",
    "    \n",
    "    # Fetch\n",
    "    driver.get(url)\n",
    "    \n",
    "    # Wait until the <title> tag is present in the HTML document\n",
    "    #WebDriverWait(driver, 5).until(EC.presence_of_element_located((By.TAG_NAME, \"title\")))\n",
    "    time.sleep(5)\n",
    "    \n",
    "    # Find the <title> tag\n",
    "    title_element = driver.find_element(By.TAG_NAME, \"title\")\n",
    "    print(extractStringFromTitle(title_element.get_attribute(\"textContent\")))\n",
    "\n",
    "# Close the browser\n",
    "driver.quit()"
   ]
  },
  {
   "cell_type": "code",
   "execution_count": null,
   "id": "3b296180",
   "metadata": {},
   "outputs": [],
   "source": []
  }
 ],
 "metadata": {
  "kernelspec": {
   "display_name": "Python 3 (ipykernel)",
   "language": "python",
   "name": "python3"
  },
  "language_info": {
   "codemirror_mode": {
    "name": "ipython",
    "version": 3
   },
   "file_extension": ".py",
   "mimetype": "text/x-python",
   "name": "python",
   "nbconvert_exporter": "python",
   "pygments_lexer": "ipython3",
   "version": "3.11.5"
  }
 },
 "nbformat": 4,
 "nbformat_minor": 5
}
