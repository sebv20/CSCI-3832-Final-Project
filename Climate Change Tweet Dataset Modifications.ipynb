{
 "cells": [
  {
   "cell_type": "code",
   "execution_count": 37,
   "id": "14126b9b",
   "metadata": {},
   "outputs": [],
   "source": [
    "import csv\n",
    "import os\n",
    "\n",
    "# Path to the input CSV file\n",
    "input_file = 'Climate Change Tweet Dataset\\The Climate Change Twitter Dataset.csv'\n",
    "# Path to the output CSV file\n",
    "output_file = 'Climate Change Tweet Dataset\\Dataset.csv'\n",
    "# Column index where you want to check for missing data (0-indexed)\n",
    "column_index = 2"
   ]
  },
  {
   "cell_type": "code",
   "execution_count": 38,
   "id": "6c32d421",
   "metadata": {},
   "outputs": [],
   "source": [
    "# Function to delete rows with missing data in a certain column from a CSV file\n",
    "def delete_rows_with_missing_data(input_file, output_file, column_index):\n",
    "    with open(input_file, 'r') as infile, open(output_file, 'w', newline='') as outfile:\n",
    "        reader = csv.reader(infile)\n",
    "        writer = csv.writer(outfile)\n",
    "        \n",
    "        # Iterate through each row in the input CSV file\n",
    "        for row in reader:\n",
    "            # Check if the data in the specified column is missing (empty string)\n",
    "            if row[column_index] != '':\n",
    "                # Write the row to the output CSV file if data is present\n",
    "                writer.writerow(row)\n",
    "\n",
    "# Delete rows with missing data in the specified column\n",
    "delete_rows_with_missing_data(input_file, output_file, column_index)"
   ]
  },
  {
   "cell_type": "code",
   "execution_count": 39,
   "id": "3f363903",
   "metadata": {},
   "outputs": [],
   "source": [
    "# Function to add blank column to dataset\n",
    "def add_text_column(input_file):\n",
    "        with open(input_file, 'r') as infile, open('Climate Change Tweet Dataset\\\\tempCSV.csv', 'w', newline='') as outfile:\n",
    "            reader = csv.reader(infile)\n",
    "            writer = csv.writer(outfile)\n",
    "        \n",
    "            #Set up \"column headers\"\n",
    "            row=next(reader)\n",
    "            row.append('text')\n",
    "            writer.writerow(row)\n",
    "            \n",
    "            #Blank the rest of the \"text\" column\n",
    "            for i, row in enumerate(reader):\n",
    "                if i == 0:\n",
    "                    continue  # Skip the first row since it's already written\n",
    "                row.append('')\n",
    "                writer.writerow(row)\n",
    "    \n",
    "        temp_file_path = 'Climate Change Tweet Dataset\\\\tempCSV.csv'\n",
    "        original_file_path = 'Climate Change Tweet Dataset\\Dataset.csv'\n",
    "        os.replace(temp_file_path, original_file_path)\n",
    "            \n",
    "add_text_column('Climate Change Tweet Dataset\\Dataset.csv')\n",
    "            "
   ]
  },
  {
   "cell_type": "code",
   "execution_count": 14,
   "id": "11ed34ca",
   "metadata": {},
   "outputs": [
    {
     "name": "stdout",
     "output_type": "stream",
     "text": [
      "['13275', '1092823', '1278023', '1455543', '1893063', '2266613', '2377823', '2579403', '2579433', '2604673', '2999523', '3040243', '3081573', '3241963', '3564043', '3821293', '3922153', '3922243', '3922373', '4306863', '4318073', '4729003', '4805803', '4982153', '5044463', '5096513', '5144253', '5197163', '5203523', '5314366', '5324848', '5328495', '5334170', '5334810', '5336007', '5348207', '5392174', '5431384', '5448722', '5462838', '5497780', '5500970', '5507294', '5519358', '5519363', '5531579', '5531980', '5536756', '5539932', '5547472', '5577833', '5577919', '5626819', '5626892', '5638797', '5656607', '5671404', '5692369', '5784515', '5815448', '5822903', '5869934', '5873884', '5887766', '5901292', '5909852', '5916898', '5920058', '5925915', '5933596', '5933831', '5936253', '5940181', '5940514', '6550371', '6607811', '6609921', '6805491', '6920201', '6923751', '7269261', '7293441', '7581801', '7929981', '7942241', '7997781', '8120951', '8438071', '8441381', '8527031', '8640031', '8686211', '8691121', '8796491', '8796821', '8960981', '9542461', '9732201', '9840761', '9860761']\n"
     ]
    }
   ],
   "source": [
    "# Get 100 tweet ids\n",
    "input_file = 'Climate Change Tweet Dataset\\Dataset.csv'\n",
    "testarr = []\n",
    "\n",
    "with open(input_file, 'r') as infile:\n",
    "    reader = csv.reader(infile)\n",
    "    row=next(reader)\n",
    "    for i in range(100):\n",
    "        row=next(reader)\n",
    "        testarr.append(row[1])\n",
    "\n",
    "print(testarr)"
   ]
  },
  {
   "cell_type": "code",
   "execution_count": 45,
   "id": "4a5e5c6e",
   "metadata": {},
   "outputs": [],
   "source": [
    "#Merge contents of tempCSV and Dataset (in case program crashes)\n",
    "dataset_file = 'Climate Change Tweet Dataset\\Dataset.csv'\n",
    "temp_file = 'Climate Change Tweet Dataset\\\\tempCSV.csv'\n",
    "temp2_file = 'Climate Change Tweet Dataset\\\\temp2CSV.csv'\n",
    "\n",
    "with open(dataset_file, 'r') as dataset, open(temp_file, 'r') as temp1, open(temp2_file, 'w', newline='') as temp2:\n",
    "    reader = csv.reader(dataset)\n",
    "    readerTemp = csv.reader(temp1)\n",
    "    writer = csv.writer(temp2)\n",
    "    \n",
    "    for row in readerTemp:\n",
    "        next(reader)\n",
    "        writer.writerow(row)\n",
    "        \n",
    "    for row in reader:\n",
    "        writer.writerow(row)\n",
    "\n",
    "temp_file_path = 'Climate Change Tweet Dataset\\\\temp2CSV.csv'\n",
    "original_file_path = 'Climate Change Tweet Dataset\\Dataset.csv'\n",
    "os.replace(temp_file_path, original_file_path)\n",
    "print(\"Finished merge\")"
   ]
  },
  {
   "cell_type": "code",
   "execution_count": null,
   "id": "6f60ad35",
   "metadata": {},
   "outputs": [],
   "source": []
  }
 ],
 "metadata": {
  "kernelspec": {
   "display_name": "Python 3 (ipykernel)",
   "language": "python",
   "name": "python3"
  },
  "language_info": {
   "codemirror_mode": {
    "name": "ipython",
    "version": 3
   },
   "file_extension": ".py",
   "mimetype": "text/x-python",
   "name": "python",
   "nbconvert_exporter": "python",
   "pygments_lexer": "ipython3",
   "version": "3.11.5"
  }
 },
 "nbformat": 4,
 "nbformat_minor": 5
}
